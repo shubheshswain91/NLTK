{
  "nbformat": 4,
  "nbformat_minor": 0,
  "metadata": {
    "colab": {
      "name": "nltk_stopwords.ipynb",
      "provenance": []
    },
    "kernelspec": {
      "name": "python3",
      "display_name": "Python 3"
    }
  },
  "cells": [
    {
      "cell_type": "code",
      "metadata": {
        "id": "_hBKFfqN2QPv",
        "colab_type": "code",
        "colab": {}
      },
      "source": [
        "from nltk.tokenize import sent_tokenize, word_tokenize\n",
        "from nltk.corpus import stopwords"
      ],
      "execution_count": 0,
      "outputs": []
    },
    {
      "cell_type": "code",
      "metadata": {
        "id": "3BY5W-4r3pPI",
        "colab_type": "code",
        "colab": {}
      },
      "source": [
        "example_text = \" Hello Mr. Swain, how are you doing? Is everything allright\"\n"
      ],
      "execution_count": 0,
      "outputs": []
    },
    {
      "cell_type": "code",
      "metadata": {
        "id": "NQ5yFMTX4esN",
        "colab_type": "code",
        "colab": {
          "base_uri": "https://localhost:8080/",
          "height": 70
        },
        "outputId": "5a0eec76-1aac-404c-d05b-4f9c16829607"
      },
      "source": [
        "nltk.download('punkt')"
      ],
      "execution_count": 10,
      "outputs": [
        {
          "output_type": "stream",
          "text": [
            "[nltk_data] Downloading package punkt to /root/nltk_data...\n",
            "[nltk_data]   Unzipping tokenizers/punkt.zip.\n"
          ],
          "name": "stdout"
        },
        {
          "output_type": "execute_result",
          "data": {
            "text/plain": [
              "True"
            ]
          },
          "metadata": {
            "tags": []
          },
          "execution_count": 10
        }
      ]
    },
    {
      "cell_type": "code",
      "metadata": {
        "id": "I_NR5tgw2bFq",
        "colab_type": "code",
        "colab": {
          "base_uri": "https://localhost:8080/",
          "height": 35
        },
        "outputId": "2e536d2e-6e74-4072-b802-527132ae84a7"
      },
      "source": [
        "print(sent_tokenize(example_text))"
      ],
      "execution_count": 11,
      "outputs": [
        {
          "output_type": "stream",
          "text": [
            "[' Hello Mr. Swain, how are you doing?', 'Is everything allright']\n"
          ],
          "name": "stdout"
        }
      ]
    },
    {
      "cell_type": "code",
      "metadata": {
        "id": "E0SdQjA64XOb",
        "colab_type": "code",
        "colab": {
          "base_uri": "https://localhost:8080/",
          "height": 35
        },
        "outputId": "11b8f768-2486-45b0-8019-91e514817ded"
      },
      "source": [
        "print(word_tokenize(example_text))"
      ],
      "execution_count": 12,
      "outputs": [
        {
          "output_type": "stream",
          "text": [
            "['Hello', 'Mr.', 'Swain', ',', 'how', 'are', 'you', 'doing', '?', 'Is', 'everything', 'allright']\n"
          ],
          "name": "stdout"
        }
      ]
    },
    {
      "cell_type": "code",
      "metadata": {
        "id": "9cRiAu_G4oqC",
        "colab_type": "code",
        "colab": {
          "base_uri": "https://localhost:8080/",
          "height": 230
        },
        "outputId": "6685f9a3-701b-48e1-e489-01bd9e8089ef"
      },
      "source": [
        "for i in word_tokenize(example_text):\n",
        "  print(i)"
      ],
      "execution_count": 13,
      "outputs": [
        {
          "output_type": "stream",
          "text": [
            "Hello\n",
            "Mr.\n",
            "Swain\n",
            ",\n",
            "how\n",
            "are\n",
            "you\n",
            "doing\n",
            "?\n",
            "Is\n",
            "everything\n",
            "allright\n"
          ],
          "name": "stdout"
        }
      ]
    },
    {
      "cell_type": "code",
      "metadata": {
        "id": "WVHY968N44pJ",
        "colab_type": "code",
        "colab": {
          "base_uri": "https://localhost:8080/",
          "height": 70
        },
        "outputId": "f88ccea9-a397-4e60-ee9f-6d9d1843b758"
      },
      "source": [
        "nltk.download('stopwords')"
      ],
      "execution_count": 17,
      "outputs": [
        {
          "output_type": "stream",
          "text": [
            "[nltk_data] Downloading package stopwords to /root/nltk_data...\n",
            "[nltk_data]   Unzipping corpora/stopwords.zip.\n"
          ],
          "name": "stdout"
        },
        {
          "output_type": "execute_result",
          "data": {
            "text/plain": [
              "True"
            ]
          },
          "metadata": {
            "tags": []
          },
          "execution_count": 17
        }
      ]
    },
    {
      "cell_type": "code",
      "metadata": {
        "id": "GgX_6_QX5-qD",
        "colab_type": "code",
        "colab": {}
      },
      "source": [
        "stopwords = set(stopwords.words(\"english\"))"
      ],
      "execution_count": 0,
      "outputs": []
    },
    {
      "cell_type": "code",
      "metadata": {
        "id": "jntSlttM6Lj7",
        "colab_type": "code",
        "colab": {
          "base_uri": "https://localhost:8080/",
          "height": 55
        },
        "outputId": "08901cec-ba5a-4a80-8906-cd403b3dda9e"
      },
      "source": [
        "print(stopwords)"
      ],
      "execution_count": 19,
      "outputs": [
        {
          "output_type": "stream",
          "text": [
            "{'should', 'which', 'or', \"haven't\", 'ain', 'with', \"you're\", 'hers', 'y', 'some', \"shouldn't\", \"hasn't\", 'does', \"you'd\", 'most', 't', 'against', 'our', 'not', 'than', 'needn', 'mightn', 'wouldn', 'me', 'their', 'when', 'it', 'each', \"she's\", 'is', 'be', 'into', 'by', 'will', 'has', 'of', 'if', 'hasn', 'now', 'up', \"don't\", 'doesn', 'mustn', 'how', 'there', 'he', 'do', \"it's\", \"mightn't\", 'theirs', 'have', \"couldn't\", 'wasn', 'ourselves', 'myself', 'didn', 'had', 'what', 'more', 'isn', 'yourself', 'its', 'nor', 'off', 'who', 'him', 'and', 'd', 'below', 'but', 'll', \"mustn't\", 'for', 'other', 've', \"shan't\", 'between', \"doesn't\", 'whom', 're', \"you'll\", 'then', 'we', \"didn't\", 'did', 'after', 'were', 'on', 'i', 'down', 'at', 'these', 'hadn', 'you', 'those', 'during', \"isn't\", 'ours', 'further', 'so', 'she', 'don', \"that'll\", 'both', 'won', 'themselves', 'as', 'yourselves', 's', 'my', 'ma', 'here', 'o', 'an', 'because', 'too', \"won't\", 'was', 'can', 'her', 'that', 'just', 'am', 'while', \"needn't\", 'all', 'the', \"aren't\", 'doing', 'out', \"hadn't\", 'yours', 'own', 'from', 'any', 'haven', 'this', 'under', \"weren't\", 'couldn', 'very', 'such', 'being', \"wouldn't\", 'no', 'weren', 'them', \"should've\", 'in', 'shouldn', 'itself', 'over', 'above', 'why', 'same', 'aren', 'where', 'm', 'himself', 'few', 'herself', 'are', \"you've\", 'been', 'to', 'having', 'once', 'your', 'through', 'before', 'again', 'his', 'until', 'only', \"wasn't\", 'a', 'they', 'shan', 'about'}\n"
          ],
          "name": "stdout"
        }
      ]
    },
    {
      "cell_type": "code",
      "metadata": {
        "id": "LnzCwlsF6T3R",
        "colab_type": "code",
        "colab": {}
      },
      "source": [
        "words = word_tokenize(example_text)"
      ],
      "execution_count": 0,
      "outputs": []
    },
    {
      "cell_type": "code",
      "metadata": {
        "id": "AD4E1NqD6qyJ",
        "colab_type": "code",
        "colab": {}
      },
      "source": [
        "filtered_sentence = []"
      ],
      "execution_count": 0,
      "outputs": []
    },
    {
      "cell_type": "code",
      "metadata": {
        "id": "13UTk7M06v8S",
        "colab_type": "code",
        "colab": {}
      },
      "source": [
        "for w in words:\n",
        "  if w not in stopwords:\n",
        "    filtered_sentence.append(w)\n",
        "    "
      ],
      "execution_count": 0,
      "outputs": []
    },
    {
      "cell_type": "code",
      "metadata": {
        "id": "4mLWhOUn7GBY",
        "colab_type": "code",
        "colab": {
          "base_uri": "https://localhost:8080/",
          "height": 35
        },
        "outputId": "54bc2b7a-b219-4d51-b841-b4b83b3bb18e"
      },
      "source": [
        "print(filtered_sentence)"
      ],
      "execution_count": 23,
      "outputs": [
        {
          "output_type": "stream",
          "text": [
            "['Hello', 'Mr.', 'Swain', ',', '?', 'Is', 'everything', 'allright']\n"
          ],
          "name": "stdout"
        }
      ]
    },
    {
      "cell_type": "code",
      "metadata": {
        "id": "Pw226Zqg7ImA",
        "colab_type": "code",
        "colab": {}
      },
      "source": [
        ""
      ],
      "execution_count": 0,
      "outputs": []
    }
  ]
}