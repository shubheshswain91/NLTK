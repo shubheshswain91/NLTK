{
  "nbformat": 4,
  "nbformat_minor": 0,
  "metadata": {
    "colab": {
      "name": "nltk_text-classification.ipynb",
      "provenance": [],
      "authorship_tag": "ABX9TyNrXLxKNQU0BJMjD/IF+XoT",
      "include_colab_link": true
    },
    "kernelspec": {
      "name": "python3",
      "display_name": "Python 3"
    }
  },
  "cells": [
    {
      "cell_type": "markdown",
      "metadata": {
        "id": "view-in-github",
        "colab_type": "text"
      },
      "source": [
        "<a href=\"https://colab.research.google.com/github/shubheshswain91/NLTK/blob/master/nltk_text_classification.ipynb\" target=\"_parent\"><img src=\"https://colab.research.google.com/assets/colab-badge.svg\" alt=\"Open In Colab\"/></a>"
      ]
    },
    {
      "cell_type": "code",
      "metadata": {
        "id": "jyvZzQ38Fl2Z",
        "colab_type": "code",
        "colab": {
          "base_uri": "https://localhost:8080/",
          "height": 70
        },
        "outputId": "21c22be5-14cc-4919-d13f-206f01fa338b"
      },
      "source": [
        "import nltk\n",
        "import random\n",
        "from nltk.corpus import movie_reviews\n",
        "nltk.download('movie_reviews')"
      ],
      "execution_count": 3,
      "outputs": [
        {
          "output_type": "stream",
          "text": [
            "[nltk_data] Downloading package movie_reviews to /root/nltk_data...\n",
            "[nltk_data]   Unzipping corpora/movie_reviews.zip.\n"
          ],
          "name": "stdout"
        },
        {
          "output_type": "execute_result",
          "data": {
            "text/plain": [
              "True"
            ]
          },
          "metadata": {
            "tags": []
          },
          "execution_count": 3
        }
      ]
    },
    {
      "cell_type": "code",
      "metadata": {
        "id": "qtMFUdhaFx1v",
        "colab_type": "code",
        "colab": {
          "base_uri": "https://localhost:8080/",
          "height": 55
        },
        "outputId": "0475c8a2-6166-45fb-9a80-eab8d2222c45"
      },
      "source": [
        "documents = [(list(movie_reviews.words(fileid)), category)\n",
        "             for category in movie_reviews.categories()\n",
        "             for fileid in movie_reviews.fileids(category)]\n",
        "\n",
        "random.shuffle(documents)\n",
        "\n",
        "print(documents[1])\n",
        "\n"
      ],
      "execution_count": 4,
      "outputs": [
        {
          "output_type": "stream",
          "text": [
            "(['\"', 'spawn', '\"', 'may', 'be', 'somewhat', 'of', 'an', 'older', 'film', '.', 'in', 'fact', 'it', 'will', 'probably', 'be', 'on', 'video', 'before', 'anyone', 'who', 'hasn', \"'\", 't', 'seen', 'it', 'will', 'finally', 'get', 'to', 'see', 'it', '(', 'that', 'is', ',', 'if', 'they', 'see', 'it', ')', '.', 'but', 'i', 'managed', 'to', 'catch', 'it', 'before', 'it', 'made', 'it', \"'\", 's', 'way', 'out', 'of', 'theaters', 'and', 'into', 'the', 'world', 'of', 'rentals', 'and', ',', 'god', 'forbid', ',', 'video', 'cassette', 'purchasing', '.', 'it', 'wasn', \"'\", 't', 'the', 'worst', 'film', 'of', 'year', 'by', 'any', 'means', '.', 'it', 'isn', \"'\", 't', 'even', 'on', 'the', 'top', '5', 'of', 'the', 'worst', 'films', 'of', 'the', 'year', '.', 'but', 'it', 'did', 'manage', 'to', 'top', 'the', 'bottom', 'five', 'of', 'the', 'bottom', 'ten', ',', 'which', ',', 'in', 'simpler', 'terms', ',', 'means', 'it', 'comes', 'in', 'at', 'number', '6', 'on', 'my', '\"', 'worst', 'of', '1997', '\"', 'list', '.', 'the', 'only', 'reason', 'it', 'doesn', \"'\", 't', 'come', 'in', 'lower', 'is', 'thanks', 'to', 'the', 'special', 'effects', ',', 'which', 'might', 'actually', 'have', 'been', 'some', 'of', 'the', 'best', 'of', 'the', 'year', '.', 'performances', ',', 'however', ',', 'were', 'either', 'wooden', 'or', ',', 'for', 'the', 'most', 'part', ',', 'unforgivingly', 'campy', '.', 'in', 'fact', ',', 'this', 'film', 'shows', 'no', 'signs', 'of', 'attempting', 'to', 'avoid', 'campiness', '!', 'even', 'the', 'editing', 'seemed', 'to', 'boast', 'a', 'campy', 'quality', '.', 'i', 'don', \"'\", 't', 'know', 'how', 'to', 'explain', 'that', 'one', ';', 'it', 'wasn', \"'\", 't', 'exactly', 'choppy', ',', 'but', 'something', 'about', 'it', 'seemed', '.', '.', '.', 'well', ',', 'annoyingly', 'unprofessional', '.', 'john', 'leguizamo', 'almost', 'makes', 'it', 'as', 'clown', ',', 'but', 'not', 'quite', '.', 'he', 'is', 'the', 'only', 'character', 'who', 'provides', 'the', 'audience', 'with', 'any', 'laughs', 'that', 'can', 'honestly', 'be', 'called', 'intentional', '.', 'but', 'the', 'main', 'problem', 'i', 'found', 'with', '\"', 'spawn', '\"', ',', 'as', 'with', 'most', 'films', 'that', 'wind', 'up', 'on', 'my', '\"', 'worst', 'of', '\"', 'lists', ',', 'is', 'that', 'it', 'was', 'just', 'plain', 'boring', '.', 'i', 'wouldn', \"'\", 't', 'even', 'say', 'there', 'was', 'a', 'climax', 'to', 'the', 'film', '.', 'sure', ',', 'it', 'had', 'the', 'big', 'battle', 'scene', 'at', 'the', 'end', ',', 'but', 'the', 'only', 'excitement', 'felt', 'was', 'that', 'the', 'movie', 'might', 'be', 'nearing', 'a', 'conclusion', '.', 'never', 'too', 'soon', ',', 'the', 'movie', 'did', 'conclude', 'in', 'a', 'very', 'simple', ',', 'disappointing', 'way', '.', 'even', 'though', 'it', \"'\", 's', 'one', 'of', 'the', 'shorter', 'movies', 'i', \"'\", 've', 'seen', 'this', 'year', ',', 'it', \"'\", 's', 'one', 'that', 'i', 'would', 'definitely', 'not', 'want', 'to', 'subject', 'myself', 'to', 'sitting', 'thru', 'again', '.', 'like', 'i', 'said', ',', 'the', 'special', 'effects', 'are', 'the', 'only', 'reason', 'that', 'this', 'film', 'should', 'have', 'any', 'sense', 'of', 'pride', ',', 'no', 'matter', 'how', 'small', '.', 'i', 'was', 'impressed', 'with', 'the', 'opening', 'sequence', ',', 'so', 'long', 'as', 'i', 'didn', \"'\", 't', 'allow', 'the', 'melodramatic', 'voice', '-', 'over', 'and', 'lobotomizing', 'editing', 'to', 'get', 'to', 'me', '.', 'and', 'batman', 'has', 'nothing', 'on', 'the', 'spectacular', 'visuals', 'spawn', \"'\", 's', 'outfit', 'created', '.', 'but', 'even', 'the', 'effects', 'got', 'tiresome', 'during', 'the', 'final', 'scenes', ',', 'which', 'looked', 'quite', 'a', 'bit', 'like', 'a', 'modern', 'video', 'game', '.', 'who', 'knows', 'if', '\"', 'spawn', ':', 'the', 'video', 'game', '\"', 'wasn', \"'\", 't', 'part', 'of', 'the', 'plan', 'from', 'the', 'beginning', '?', 'keeping', 'in', 'mind', 'that', 'the', 'film', 'was', 'based', 'on', 'a', 'comic', 'book', 'makes', 'it', 'somewhat', 'more', 'approachable', ',', 'and', 'in', 'a', 'very', 'small', 'amount', ',', 'makes', 'up', 'for', 'the', 'cheeziness', 'of', 'it', 'all', '.', 'but', 'none', 'of', 'this', 'movie', \"'\", 's', 'saving', 'graces', 'can', 'it', 'make', 'it', 'something', 'i', \"'\", 'd', 'recommend', 'seeing', ',', 'no', 'matter', 'what', 'the', 'price', 'of', 'admission', '.', 'this', 'movie', 'is', 'definitely', 'not', 'for', 'young', 'children', ',', 'which', 'shouldn', \"'\", 't', 'really', 'be', 'a', 'problem', 'seeing', 'as', 'how', 'only', 'teenagers', ',', 'if', 'anyone', ',', 'would', 'likely', 'find', 'it', 'appealing', '.', 'if', 'you', 'really', 'want', 'to', 'catch', 'a', 'movie', ',', 'there', 'are', 'many', 'better', 'ones', 'out', 'there', ',', 'no', 'matter', 'what', 'your', 'tastes', 'might', 'be', '!', 'trust', 'me', '!', '\"', 'spawn', '\"', 'has', 'very', 'little', 'to', 'offer', 'even', 'the', 'most', 'avid', 'moviegoers', '!'], 'neg')\n"
          ],
          "name": "stdout"
        }
      ]
    },
    {
      "cell_type": "code",
      "metadata": {
        "id": "P7TrbKCQF1sV",
        "colab_type": "code",
        "colab": {
          "base_uri": "https://localhost:8080/",
          "height": 72
        },
        "outputId": "5519b1a9-fd36-4953-9732-fdb45c6f215d"
      },
      "source": [
        "all_words = []\n",
        "for w in movie_reviews.words():\n",
        "    all_words.append(w.lower())\n",
        "\n",
        "all_words = nltk.FreqDist(all_words)\n",
        "print(all_words.most_common(15))\n",
        "print(all_words[\"stupid\"])"
      ],
      "execution_count": 5,
      "outputs": [
        {
          "output_type": "stream",
          "text": [
            "[(',', 77717), ('the', 76529), ('.', 65876), ('a', 38106), ('and', 35576), ('of', 34123), ('to', 31937), (\"'\", 30585), ('is', 25195), ('in', 21822), ('s', 18513), ('\"', 17612), ('it', 16107), ('that', 15924), ('-', 15595)]\n",
            "253\n"
          ],
          "name": "stdout"
        }
      ]
    },
    {
      "cell_type": "code",
      "metadata": {
        "id": "XKBB1YURF-9s",
        "colab_type": "code",
        "colab": {
          "base_uri": "https://localhost:8080/",
          "height": 35
        },
        "outputId": "88982817-05b4-44df-fd37-7a76cfc0bb04"
      },
      "source": [
        "print(all_words[\"swain\"])"
      ],
      "execution_count": 6,
      "outputs": [
        {
          "output_type": "stream",
          "text": [
            "2\n"
          ],
          "name": "stdout"
        }
      ]
    },
    {
      "cell_type": "code",
      "metadata": {
        "id": "7kcwPc-wGJ9w",
        "colab_type": "code",
        "colab": {
          "base_uri": "https://localhost:8080/",
          "height": 35
        },
        "outputId": "78d50081-1458-4fe8-e464-df388e707715"
      },
      "source": [
        "print(all_words[\"shubhesh\"])"
      ],
      "execution_count": 7,
      "outputs": [
        {
          "output_type": "stream",
          "text": [
            "0\n"
          ],
          "name": "stdout"
        }
      ]
    },
    {
      "cell_type": "code",
      "metadata": {
        "id": "ThJ-6oS2GMYN",
        "colab_type": "code",
        "colab": {
          "base_uri": "https://localhost:8080/",
          "height": 35
        },
        "outputId": "3d3f0a65-9921-44f7-b3d5-cb917f8b2671"
      },
      "source": [
        "print(all_words[\"vicky\"])"
      ],
      "execution_count": 8,
      "outputs": [
        {
          "output_type": "stream",
          "text": [
            "4\n"
          ],
          "name": "stdout"
        }
      ]
    }
  ]
}